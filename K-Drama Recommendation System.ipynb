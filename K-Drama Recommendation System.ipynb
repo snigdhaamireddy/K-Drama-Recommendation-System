{
 "cells": [
  {
   "cell_type": "markdown",
   "id": "726cf2c9",
   "metadata": {},
   "source": [
    "# K-Drama Recommendation System from Top 100 K-Dramas"
   ]
  },
  {
   "cell_type": "code",
   "execution_count": 1,
   "id": "2a47497c",
   "metadata": {},
   "outputs": [],
   "source": [
    "#Modules for EDA\n",
    "import numpy as np \n",
    "import pandas as pd \n",
    "import seaborn as sns\n",
    "from matplotlib import pyplot as plt\n",
    "plt.style.use('fivethirtyeight')\n",
    "\n",
    "#Modules for ML(Recommendation)\n",
    "from sklearn.preprocessing import MinMaxScaler\n",
    "from sklearn.neighbors import NearestNeighbors\n",
    "from sklearn.metrics.pairwise import cosine_similarity\n",
    "\n",
    "%matplotlib inline"
   ]
  },
  {
   "cell_type": "code",
   "execution_count": 2,
   "id": "d3bbc00c",
   "metadata": {},
   "outputs": [
    {
     "data": {
      "text/plain": [
       "'C:\\\\Users\\\\manis'"
      ]
     },
     "execution_count": 2,
     "metadata": {},
     "output_type": "execute_result"
    }
   ],
   "source": [
    "pwd"
   ]
  },
  {
   "cell_type": "code",
   "execution_count": 7,
   "id": "35972f7f",
   "metadata": {},
   "outputs": [
    {
     "name": "stdout",
     "output_type": "stream",
     "text": [
      "D:\\documents\\snigdha documents\n"
     ]
    }
   ],
   "source": [
    "cd D:\\documents\\snigdha documents"
   ]
  },
  {
   "cell_type": "markdown",
   "id": "465e4e2a",
   "metadata": {},
   "source": [
    "Importing dataset"
   ]
  },
  {
   "cell_type": "code",
   "execution_count": 8,
   "id": "a2937fa9",
   "metadata": {},
   "outputs": [],
   "source": [
    "kd = pd.read_csv('top100_kdrama.csv')"
   ]
  },
  {
   "cell_type": "markdown",
   "id": "612a0bf1",
   "metadata": {},
   "source": [
    "Understanding the data"
   ]
  },
  {
   "cell_type": "code",
   "execution_count": 9,
   "id": "918b1ce8",
   "metadata": {},
   "outputs": [
    {
     "name": "stdout",
     "output_type": "stream",
     "text": [
      "<class 'pandas.core.frame.DataFrame'>\n",
      "RangeIndex: 100 entries, 0 to 99\n",
      "Data columns (total 14 columns):\n",
      " #   Column             Non-Null Count  Dtype  \n",
      "---  ------             --------------  -----  \n",
      " 0   Name               100 non-null    object \n",
      " 1   Year of release    100 non-null    int64  \n",
      " 2   Aired Date         100 non-null    object \n",
      " 3   Aired On           100 non-null    object \n",
      " 4   Number of Episode  100 non-null    int64  \n",
      " 5   Network            100 non-null    object \n",
      " 6   Duration           100 non-null    object \n",
      " 7   Content Rating     100 non-null    object \n",
      " 8   Synopsis           100 non-null    object \n",
      " 9   Cast               100 non-null    object \n",
      " 10  Genre              100 non-null    object \n",
      " 11  Tags               100 non-null    object \n",
      " 12  Rank               100 non-null    object \n",
      " 13  Rating             100 non-null    float64\n",
      "dtypes: float64(1), int64(2), object(11)\n",
      "memory usage: 11.1+ KB\n"
     ]
    }
   ],
   "source": [
    "kd.info()"
   ]
  },
  {
   "cell_type": "code",
   "execution_count": 10,
   "id": "1ef381c4",
   "metadata": {},
   "outputs": [
    {
     "data": {
      "text/html": [
       "<div>\n",
       "<style scoped>\n",
       "    .dataframe tbody tr th:only-of-type {\n",
       "        vertical-align: middle;\n",
       "    }\n",
       "\n",
       "    .dataframe tbody tr th {\n",
       "        vertical-align: top;\n",
       "    }\n",
       "\n",
       "    .dataframe thead th {\n",
       "        text-align: right;\n",
       "    }\n",
       "</style>\n",
       "<table border=\"1\" class=\"dataframe\">\n",
       "  <thead>\n",
       "    <tr style=\"text-align: right;\">\n",
       "      <th></th>\n",
       "      <th>Year of release</th>\n",
       "      <th>Number of Episode</th>\n",
       "      <th>Rating</th>\n",
       "    </tr>\n",
       "  </thead>\n",
       "  <tbody>\n",
       "    <tr>\n",
       "      <th>count</th>\n",
       "      <td>100.000000</td>\n",
       "      <td>100.000000</td>\n",
       "      <td>100.000000</td>\n",
       "    </tr>\n",
       "    <tr>\n",
       "      <th>mean</th>\n",
       "      <td>2017.970000</td>\n",
       "      <td>19.070000</td>\n",
       "      <td>8.723000</td>\n",
       "    </tr>\n",
       "    <tr>\n",
       "      <th>std</th>\n",
       "      <td>2.869044</td>\n",
       "      <td>12.378096</td>\n",
       "      <td>0.174573</td>\n",
       "    </tr>\n",
       "    <tr>\n",
       "      <th>min</th>\n",
       "      <td>2003.000000</td>\n",
       "      <td>6.000000</td>\n",
       "      <td>8.500000</td>\n",
       "    </tr>\n",
       "    <tr>\n",
       "      <th>25%</th>\n",
       "      <td>2017.000000</td>\n",
       "      <td>16.000000</td>\n",
       "      <td>8.600000</td>\n",
       "    </tr>\n",
       "    <tr>\n",
       "      <th>50%</th>\n",
       "      <td>2019.000000</td>\n",
       "      <td>16.000000</td>\n",
       "      <td>8.700000</td>\n",
       "    </tr>\n",
       "    <tr>\n",
       "      <th>75%</th>\n",
       "      <td>2020.000000</td>\n",
       "      <td>20.000000</td>\n",
       "      <td>8.800000</td>\n",
       "    </tr>\n",
       "    <tr>\n",
       "      <th>max</th>\n",
       "      <td>2021.000000</td>\n",
       "      <td>100.000000</td>\n",
       "      <td>9.200000</td>\n",
       "    </tr>\n",
       "  </tbody>\n",
       "</table>\n",
       "</div>"
      ],
      "text/plain": [
       "       Year of release  Number of Episode      Rating\n",
       "count       100.000000         100.000000  100.000000\n",
       "mean       2017.970000          19.070000    8.723000\n",
       "std           2.869044          12.378096    0.174573\n",
       "min        2003.000000           6.000000    8.500000\n",
       "25%        2017.000000          16.000000    8.600000\n",
       "50%        2019.000000          16.000000    8.700000\n",
       "75%        2020.000000          20.000000    8.800000\n",
       "max        2021.000000         100.000000    9.200000"
      ]
     },
     "execution_count": 10,
     "metadata": {},
     "output_type": "execute_result"
    }
   ],
   "source": [
    "kd.describe()"
   ]
  },
  {
   "cell_type": "code",
   "execution_count": 11,
   "id": "9451de8e",
   "metadata": {},
   "outputs": [
    {
     "data": {
      "text/html": [
       "<div>\n",
       "<style scoped>\n",
       "    .dataframe tbody tr th:only-of-type {\n",
       "        vertical-align: middle;\n",
       "    }\n",
       "\n",
       "    .dataframe tbody tr th {\n",
       "        vertical-align: top;\n",
       "    }\n",
       "\n",
       "    .dataframe thead th {\n",
       "        text-align: right;\n",
       "    }\n",
       "</style>\n",
       "<table border=\"1\" class=\"dataframe\">\n",
       "  <thead>\n",
       "    <tr style=\"text-align: right;\">\n",
       "      <th></th>\n",
       "      <th>Name</th>\n",
       "      <th>Year of release</th>\n",
       "      <th>Aired Date</th>\n",
       "      <th>Aired On</th>\n",
       "      <th>Number of Episode</th>\n",
       "      <th>Network</th>\n",
       "      <th>Duration</th>\n",
       "      <th>Content Rating</th>\n",
       "      <th>Synopsis</th>\n",
       "      <th>Cast</th>\n",
       "      <th>Genre</th>\n",
       "      <th>Tags</th>\n",
       "      <th>Rank</th>\n",
       "      <th>Rating</th>\n",
       "    </tr>\n",
       "  </thead>\n",
       "  <tbody>\n",
       "    <tr>\n",
       "      <th>0</th>\n",
       "      <td>Move to Heaven</td>\n",
       "      <td>2021</td>\n",
       "      <td>May 14, 2021</td>\n",
       "      <td>Friday</td>\n",
       "      <td>10</td>\n",
       "      <td>Netflix</td>\n",
       "      <td>52 min.</td>\n",
       "      <td>18+ Restricted (violence &amp; profanity)</td>\n",
       "      <td>Geu Roo is a young autistic man. He works for ...</td>\n",
       "      <td>Lee Je Hoon, Tang Jun Sang, Hong Seung Hee, Ju...</td>\n",
       "      <td>Life,  Drama,  Family</td>\n",
       "      <td>Autism, Uncle-Nephew Relationship, Death, Sava...</td>\n",
       "      <td>#1</td>\n",
       "      <td>9.2</td>\n",
       "    </tr>\n",
       "    <tr>\n",
       "      <th>1</th>\n",
       "      <td>Hospital Playlist</td>\n",
       "      <td>2020</td>\n",
       "      <td>Mar 12, 2020 - May 28, 2020</td>\n",
       "      <td>Thursday</td>\n",
       "      <td>12</td>\n",
       "      <td>Netflix,  tvN</td>\n",
       "      <td>1 hr. 30 min.</td>\n",
       "      <td>15+ - Teens 15 or older</td>\n",
       "      <td>The stories of people going through their days...</td>\n",
       "      <td>Jo Jung Suk, Yoo Yeon Seok, Jung Kyung Ho, Kim...</td>\n",
       "      <td>Friendship,  Romance,  Life,  Medical</td>\n",
       "      <td>Strong Friendship, Multiple Mains, Best Friend...</td>\n",
       "      <td>#2</td>\n",
       "      <td>9.1</td>\n",
       "    </tr>\n",
       "    <tr>\n",
       "      <th>2</th>\n",
       "      <td>Flower of Evil</td>\n",
       "      <td>2020</td>\n",
       "      <td>Jul 29, 2020 - Sep 23, 2020</td>\n",
       "      <td>Wednesday, Thursday</td>\n",
       "      <td>16</td>\n",
       "      <td>tvN</td>\n",
       "      <td>1 hr. 10 min.</td>\n",
       "      <td>15+ - Teens 15 or older</td>\n",
       "      <td>Although Baek Hee Sung is hiding a dark secret...</td>\n",
       "      <td>Lee Joon Gi, Moon Chae Won, Jang Hee Jin, Seo ...</td>\n",
       "      <td>Thriller,  Romance,  Crime,  Melodrama</td>\n",
       "      <td>Married Couple, Deception, Suspense, Family Se...</td>\n",
       "      <td>#3</td>\n",
       "      <td>9.1</td>\n",
       "    </tr>\n",
       "    <tr>\n",
       "      <th>3</th>\n",
       "      <td>Hospital Playlist 2</td>\n",
       "      <td>2021</td>\n",
       "      <td>Jun 17, 2021 - Sep 16, 2021</td>\n",
       "      <td>Thursday</td>\n",
       "      <td>12</td>\n",
       "      <td>Netflix,  tvN</td>\n",
       "      <td>1 hr. 40 min.</td>\n",
       "      <td>15+ - Teens 15 or older</td>\n",
       "      <td>Everyday is extraordinary for five doctors and...</td>\n",
       "      <td>Jo Jung Suk, Yoo Yeon Seok, Jung Kyung Ho, Kim...</td>\n",
       "      <td>Friendship,  Romance,  Life,  Medical</td>\n",
       "      <td>Workplace, Strong Friendship, Best Friends, Mu...</td>\n",
       "      <td>#4</td>\n",
       "      <td>9.1</td>\n",
       "    </tr>\n",
       "    <tr>\n",
       "      <th>4</th>\n",
       "      <td>My Mister</td>\n",
       "      <td>2018</td>\n",
       "      <td>Mar 21, 2018 - May 17, 2018</td>\n",
       "      <td>Wednesday, Thursday</td>\n",
       "      <td>16</td>\n",
       "      <td>tvN</td>\n",
       "      <td>1 hr. 17 min.</td>\n",
       "      <td>15+ - Teens 15 or older</td>\n",
       "      <td>Park Dong Hoon is a middle-aged engineer who i...</td>\n",
       "      <td>Lee Sun Kyun, IU, Park Ho San, Song Sae Byuk, ...</td>\n",
       "      <td>Psychological,  Life,  Drama,  Family</td>\n",
       "      <td>Age Gap, Nice Male Lead, Strong Female Lead, H...</td>\n",
       "      <td>#5</td>\n",
       "      <td>9.1</td>\n",
       "    </tr>\n",
       "  </tbody>\n",
       "</table>\n",
       "</div>"
      ],
      "text/plain": [
       "                  Name  Year of release                   Aired Date  \\\n",
       "0       Move to Heaven             2021                 May 14, 2021   \n",
       "1    Hospital Playlist             2020  Mar 12, 2020 - May 28, 2020   \n",
       "2       Flower of Evil             2020  Jul 29, 2020 - Sep 23, 2020   \n",
       "3  Hospital Playlist 2             2021  Jun 17, 2021 - Sep 16, 2021   \n",
       "4            My Mister             2018  Mar 21, 2018 - May 17, 2018   \n",
       "\n",
       "               Aired On  Number of Episode         Network       Duration  \\\n",
       "0                Friday                 10        Netflix         52 min.   \n",
       "1              Thursday                 12  Netflix,  tvN   1 hr. 30 min.   \n",
       "2   Wednesday, Thursday                 16            tvN   1 hr. 10 min.   \n",
       "3              Thursday                 12  Netflix,  tvN   1 hr. 40 min.   \n",
       "4   Wednesday, Thursday                 16            tvN   1 hr. 17 min.   \n",
       "\n",
       "                           Content Rating  \\\n",
       "0  18+ Restricted (violence & profanity)    \n",
       "1                15+ - Teens 15 or older    \n",
       "2                15+ - Teens 15 or older    \n",
       "3                15+ - Teens 15 or older    \n",
       "4                15+ - Teens 15 or older    \n",
       "\n",
       "                                            Synopsis  \\\n",
       "0  Geu Roo is a young autistic man. He works for ...   \n",
       "1  The stories of people going through their days...   \n",
       "2  Although Baek Hee Sung is hiding a dark secret...   \n",
       "3  Everyday is extraordinary for five doctors and...   \n",
       "4  Park Dong Hoon is a middle-aged engineer who i...   \n",
       "\n",
       "                                                Cast  \\\n",
       "0  Lee Je Hoon, Tang Jun Sang, Hong Seung Hee, Ju...   \n",
       "1  Jo Jung Suk, Yoo Yeon Seok, Jung Kyung Ho, Kim...   \n",
       "2  Lee Joon Gi, Moon Chae Won, Jang Hee Jin, Seo ...   \n",
       "3  Jo Jung Suk, Yoo Yeon Seok, Jung Kyung Ho, Kim...   \n",
       "4  Lee Sun Kyun, IU, Park Ho San, Song Sae Byuk, ...   \n",
       "\n",
       "                                     Genre  \\\n",
       "0                   Life,  Drama,  Family    \n",
       "1   Friendship,  Romance,  Life,  Medical    \n",
       "2  Thriller,  Romance,  Crime,  Melodrama    \n",
       "3   Friendship,  Romance,  Life,  Medical    \n",
       "4   Psychological,  Life,  Drama,  Family    \n",
       "\n",
       "                                                Tags Rank  Rating  \n",
       "0  Autism, Uncle-Nephew Relationship, Death, Sava...   #1     9.2  \n",
       "1  Strong Friendship, Multiple Mains, Best Friend...   #2     9.1  \n",
       "2  Married Couple, Deception, Suspense, Family Se...   #3     9.1  \n",
       "3  Workplace, Strong Friendship, Best Friends, Mu...   #4     9.1  \n",
       "4  Age Gap, Nice Male Lead, Strong Female Lead, H...   #5     9.1  "
      ]
     },
     "execution_count": 11,
     "metadata": {},
     "output_type": "execute_result"
    }
   ],
   "source": [
    "kd.head()"
   ]
  },
  {
   "cell_type": "markdown",
   "id": "508f080d",
   "metadata": {},
   "source": [
    "# Name as seperate Data Frame"
   ]
  },
  {
   "cell_type": "code",
   "execution_count": 12,
   "id": "595f31a7",
   "metadata": {},
   "outputs": [
    {
     "data": {
      "text/html": [
       "<div>\n",
       "<style scoped>\n",
       "    .dataframe tbody tr th:only-of-type {\n",
       "        vertical-align: middle;\n",
       "    }\n",
       "\n",
       "    .dataframe tbody tr th {\n",
       "        vertical-align: top;\n",
       "    }\n",
       "\n",
       "    .dataframe thead th {\n",
       "        text-align: right;\n",
       "    }\n",
       "</style>\n",
       "<table border=\"1\" class=\"dataframe\">\n",
       "  <thead>\n",
       "    <tr style=\"text-align: right;\">\n",
       "      <th></th>\n",
       "      <th>Name</th>\n",
       "    </tr>\n",
       "  </thead>\n",
       "  <tbody>\n",
       "    <tr>\n",
       "      <th>0</th>\n",
       "      <td>Move to Heaven</td>\n",
       "    </tr>\n",
       "    <tr>\n",
       "      <th>1</th>\n",
       "      <td>Hospital Playlist</td>\n",
       "    </tr>\n",
       "    <tr>\n",
       "      <th>2</th>\n",
       "      <td>Flower of Evil</td>\n",
       "    </tr>\n",
       "    <tr>\n",
       "      <th>3</th>\n",
       "      <td>Hospital Playlist 2</td>\n",
       "    </tr>\n",
       "    <tr>\n",
       "      <th>4</th>\n",
       "      <td>My Mister</td>\n",
       "    </tr>\n",
       "  </tbody>\n",
       "</table>\n",
       "</div>"
      ],
      "text/plain": [
       "                  Name\n",
       "0       Move to Heaven\n",
       "1    Hospital Playlist\n",
       "2       Flower of Evil\n",
       "3  Hospital Playlist 2\n",
       "4            My Mister"
      ]
     },
     "execution_count": 12,
     "metadata": {},
     "output_type": "execute_result"
    }
   ],
   "source": [
    "kdrama_names = kd[['Name']]\n",
    "kdrama_names.head()"
   ]
  },
  {
   "cell_type": "markdown",
   "id": "7ef0f6b6",
   "metadata": {},
   "source": [
    "# Features using for recommendation"
   ]
  },
  {
   "cell_type": "code",
   "execution_count": 13,
   "id": "77b149ee",
   "metadata": {},
   "outputs": [
    {
     "data": {
      "text/html": [
       "<div>\n",
       "<style scoped>\n",
       "    .dataframe tbody tr th:only-of-type {\n",
       "        vertical-align: middle;\n",
       "    }\n",
       "\n",
       "    .dataframe tbody tr th {\n",
       "        vertical-align: top;\n",
       "    }\n",
       "\n",
       "    .dataframe thead th {\n",
       "        text-align: right;\n",
       "    }\n",
       "</style>\n",
       "<table border=\"1\" class=\"dataframe\">\n",
       "  <thead>\n",
       "    <tr style=\"text-align: right;\">\n",
       "      <th></th>\n",
       "      <th>Year of release</th>\n",
       "      <th>Number of Episode</th>\n",
       "      <th>Network</th>\n",
       "      <th>Duration</th>\n",
       "      <th>Content Rating</th>\n",
       "      <th>Rating</th>\n",
       "    </tr>\n",
       "  </thead>\n",
       "  <tbody>\n",
       "    <tr>\n",
       "      <th>0</th>\n",
       "      <td>2021</td>\n",
       "      <td>10</td>\n",
       "      <td>Netflix</td>\n",
       "      <td>52 min.</td>\n",
       "      <td>18+ Restricted (violence &amp; profanity)</td>\n",
       "      <td>9.2</td>\n",
       "    </tr>\n",
       "    <tr>\n",
       "      <th>1</th>\n",
       "      <td>2020</td>\n",
       "      <td>12</td>\n",
       "      <td>Netflix,  tvN</td>\n",
       "      <td>1 hr. 30 min.</td>\n",
       "      <td>15+ - Teens 15 or older</td>\n",
       "      <td>9.1</td>\n",
       "    </tr>\n",
       "    <tr>\n",
       "      <th>2</th>\n",
       "      <td>2020</td>\n",
       "      <td>16</td>\n",
       "      <td>tvN</td>\n",
       "      <td>1 hr. 10 min.</td>\n",
       "      <td>15+ - Teens 15 or older</td>\n",
       "      <td>9.1</td>\n",
       "    </tr>\n",
       "    <tr>\n",
       "      <th>3</th>\n",
       "      <td>2021</td>\n",
       "      <td>12</td>\n",
       "      <td>Netflix,  tvN</td>\n",
       "      <td>1 hr. 40 min.</td>\n",
       "      <td>15+ - Teens 15 or older</td>\n",
       "      <td>9.1</td>\n",
       "    </tr>\n",
       "    <tr>\n",
       "      <th>4</th>\n",
       "      <td>2018</td>\n",
       "      <td>16</td>\n",
       "      <td>tvN</td>\n",
       "      <td>1 hr. 17 min.</td>\n",
       "      <td>15+ - Teens 15 or older</td>\n",
       "      <td>9.1</td>\n",
       "    </tr>\n",
       "  </tbody>\n",
       "</table>\n",
       "</div>"
      ],
      "text/plain": [
       "   Year of release  Number of Episode         Network       Duration  \\\n",
       "0             2021                 10        Netflix         52 min.   \n",
       "1             2020                 12  Netflix,  tvN   1 hr. 30 min.   \n",
       "2             2020                 16            tvN   1 hr. 10 min.   \n",
       "3             2021                 12  Netflix,  tvN   1 hr. 40 min.   \n",
       "4             2018                 16            tvN   1 hr. 17 min.   \n",
       "\n",
       "                           Content Rating  Rating  \n",
       "0  18+ Restricted (violence & profanity)      9.2  \n",
       "1                15+ - Teens 15 or older      9.1  \n",
       "2                15+ - Teens 15 or older      9.1  \n",
       "3                15+ - Teens 15 or older      9.1  \n",
       "4                15+ - Teens 15 or older      9.1  "
      ]
     },
     "execution_count": 13,
     "metadata": {},
     "output_type": "execute_result"
    }
   ],
   "source": [
    "cols_for_recommend = ['Year of release', 'Number of Episode', 'Network', 'Duration', 'Content Rating', 'Rating']\n",
    "kd = kd[cols_for_recommend]\n",
    "kd.head()"
   ]
  },
  {
   "cell_type": "markdown",
   "id": "0f87e233",
   "metadata": {},
   "source": [
    "# Feature Engineering"
   ]
  },
  {
   "cell_type": "markdown",
   "id": "02e67a47",
   "metadata": {},
   "source": [
    "# Removing duplicate values in Network column"
   ]
  },
  {
   "cell_type": "code",
   "execution_count": 14,
   "id": "ba5ed15d",
   "metadata": {},
   "outputs": [
    {
     "data": {
      "text/plain": [
       "['Netflix', 'tvN', 'tvN', 'tvN', 'tvN']"
      ]
     },
     "execution_count": 14,
     "metadata": {},
     "output_type": "execute_result"
    }
   ],
   "source": [
    "networks = []\n",
    "[networks.append(list(set(network.replace(' ','').split(',')))[0]) for network in kd['Network']]\n",
    "networks[:5]"
   ]
  },
  {
   "cell_type": "code",
   "execution_count": 16,
   "id": "d93e1912",
   "metadata": {},
   "outputs": [
    {
     "data": {
      "text/plain": [
       "array(['Netflix', 'tvN', 'jTBC', 'KBS2', 'OCN', 'SBS', 'MBC', 'Viki'],\n",
       "      dtype=object)"
      ]
     },
     "execution_count": 16,
     "metadata": {},
     "output_type": "execute_result"
    }
   ],
   "source": [
    "kd['Network'] = networks\n",
    "kd['Network'].unique()"
   ]
  },
  {
   "cell_type": "markdown",
   "id": "c6610a22",
   "metadata": {},
   "source": [
    "# Network and Total K-Dramas"
   ]
  },
  {
   "cell_type": "code",
   "execution_count": 17,
   "id": "d8d14a30",
   "metadata": {},
   "outputs": [
    {
     "data": {
      "image/png": "[encoded data removed]",
      "text/plain": [
       "<Figure size 504x504 with 1 Axes>"
      ]
     },
     "metadata": {
      "needs_background": "light"
     },
     "output_type": "display_data"
    },
    {
     "data": {
      "text/plain": [
       "tvN        35\n",
       "SBS        19\n",
       "Netflix    10\n",
       "KBS2       10\n",
       "MBC         9\n",
       "jTBC        8\n",
       "OCN         8\n",
       "Viki        1\n",
       "Name: Network, dtype: int64"
      ]
     },
     "execution_count": 17,
     "metadata": {},
     "output_type": "execute_result"
    }
   ],
   "source": [
    "plt.figure(figsize=(7,7))\n",
    "\n",
    "kd['Network'].value_counts().plot(kind='barh')\n",
    "\n",
    "plt.gca().invert_yaxis()\n",
    "plt.title(\"Networks of K-Dramas\")\n",
    "plt.xlabel('Frequency')\n",
    "plt.show()\n",
    "\n",
    "kd['Network'].value_counts()"
   ]
  },
  {
   "cell_type": "code",
   "execution_count": 19,
   "id": "8823ae25",
   "metadata": {},
   "outputs": [
    {
     "data": {
      "text/plain": [
       "0     52\n",
       "1    130\n",
       "2    110\n",
       "3    140\n",
       "4    117\n",
       "Name: Duration, dtype: object"
      ]
     },
     "execution_count": 19,
     "metadata": {},
     "output_type": "execute_result"
    }
   ],
   "source": [
    "kd['Duration'] = kd['Duration'].str.replace('[A-Za-z]\\D+','',regex=True)\n",
    "kd['Duration'].head()"
   ]
  },
  {
   "cell_type": "code",
   "execution_count": 21,
   "id": "67662a5a",
   "metadata": {},
   "outputs": [
    {
     "data": {
      "text/plain": [
       "0     52\n",
       "1    130\n",
       "2    110\n",
       "3    140\n",
       "4    117\n",
       "Name: Duration, dtype: int64"
      ]
     },
     "execution_count": 21,
     "metadata": {},
     "output_type": "execute_result"
    }
   ],
   "source": [
    "kd['Duration'] = kd['Duration'].str.replace(' ','',regex=True)\n",
    "kd['Duration'] = pd.to_numeric(kd['Duration'])\n",
    "kd['Duration'].head()"
   ]
  },
  {
   "cell_type": "code",
   "execution_count": 22,
   "id": "dd9e3dae",
   "metadata": {},
   "outputs": [
    {
     "data": {
      "image/png": "[encoded data removed]",
      "text/plain": [
       "<Figure size 504x504 with 1 Axes>"
      ]
     },
     "metadata": {
      "needs_background": "light"
     },
     "output_type": "display_data"
    }
   ],
   "source": [
    "plt.figure(figsize=(7,7))\n",
    "sns.histplot(data=kd['Duration'])\n",
    "plt.title('Duration in minutes')\n",
    "plt.show()"
   ]
  },
  {
   "cell_type": "markdown",
   "id": "daf25378",
   "metadata": {},
   "source": [
    "# Content Rating"
   ]
  },
  {
   "cell_type": "code",
   "execution_count": 23,
   "id": "bf108feb",
   "metadata": {},
   "outputs": [
    {
     "data": {
      "image/png": "[encoded data removed]",
      "text/plain": [
       "<Figure size 504x504 with 1 Axes>"
      ]
     },
     "metadata": {},
     "output_type": "display_data"
    }
   ],
   "source": [
    "plt.figure(figsize=(7,7))\n",
    "kd['Content Rating'].value_counts().plot(kind='pie',autopct='%.2f%%')\n",
    "plt.title(\"Content Rating\")\n",
    "plt.show()"
   ]
  },
  {
   "cell_type": "code",
   "execution_count": 24,
   "id": "645a25d1",
   "metadata": {},
   "outputs": [
    {
     "data": {
      "text/plain": [
       "15+ - Teens 15 or older                   88\n",
       "18+ Restricted (violence & profanity)     10\n",
       "13+ - Teens 13 or older                    2\n",
       "Name: Content Rating, dtype: int64"
      ]
     },
     "execution_count": 24,
     "metadata": {},
     "output_type": "execute_result"
    }
   ],
   "source": [
    "kd['Content Rating'].value_counts()"
   ]
  },
  {
   "cell_type": "markdown",
   "id": "34ad8ade",
   "metadata": {},
   "source": [
    "# Rating and Content Rating"
   ]
  },
  {
   "cell_type": "code",
   "execution_count": 25,
   "id": "0fa91fe2",
   "metadata": {},
   "outputs": [
    {
     "data": {
      "image/png": "[encoded data removed]",
      "text/plain": [
       "<Figure size 432x288 with 1 Axes>"
      ]
     },
     "metadata": {
      "needs_background": "light"
     },
     "output_type": "display_data"
    }
   ],
   "source": [
    "sns.histplot(data=kd[['Rating','Content Rating']],x='Rating',hue='Content Rating')\n",
    "plt.show()"
   ]
  },
  {
   "cell_type": "code",
   "execution_count": 26,
   "id": "2fbca88c",
   "metadata": {},
   "outputs": [
    {
     "data": {
      "text/html": [
       "<div>\n",
       "<style scoped>\n",
       "    .dataframe tbody tr th:only-of-type {\n",
       "        vertical-align: middle;\n",
       "    }\n",
       "\n",
       "    .dataframe tbody tr th {\n",
       "        vertical-align: top;\n",
       "    }\n",
       "\n",
       "    .dataframe thead th {\n",
       "        text-align: right;\n",
       "    }\n",
       "</style>\n",
       "<table border=\"1\" class=\"dataframe\">\n",
       "  <thead>\n",
       "    <tr style=\"text-align: right;\">\n",
       "      <th></th>\n",
       "      <th>Rating</th>\n",
       "    </tr>\n",
       "  </thead>\n",
       "  <tbody>\n",
       "    <tr>\n",
       "      <th>count</th>\n",
       "      <td>100.000000</td>\n",
       "    </tr>\n",
       "    <tr>\n",
       "      <th>mean</th>\n",
       "      <td>8.723000</td>\n",
       "    </tr>\n",
       "    <tr>\n",
       "      <th>std</th>\n",
       "      <td>0.174573</td>\n",
       "    </tr>\n",
       "    <tr>\n",
       "      <th>min</th>\n",
       "      <td>8.500000</td>\n",
       "    </tr>\n",
       "    <tr>\n",
       "      <th>25%</th>\n",
       "      <td>8.600000</td>\n",
       "    </tr>\n",
       "    <tr>\n",
       "      <th>50%</th>\n",
       "      <td>8.700000</td>\n",
       "    </tr>\n",
       "    <tr>\n",
       "      <th>75%</th>\n",
       "      <td>8.800000</td>\n",
       "    </tr>\n",
       "    <tr>\n",
       "      <th>max</th>\n",
       "      <td>9.200000</td>\n",
       "    </tr>\n",
       "  </tbody>\n",
       "</table>\n",
       "</div>"
      ],
      "text/plain": [
       "           Rating\n",
       "count  100.000000\n",
       "mean     8.723000\n",
       "std      0.174573\n",
       "min      8.500000\n",
       "25%      8.600000\n",
       "50%      8.700000\n",
       "75%      8.800000\n",
       "max      9.200000"
      ]
     },
     "execution_count": 26,
     "metadata": {},
     "output_type": "execute_result"
    }
   ],
   "source": [
    "kd[['Rating']].describe()"
   ]
  },
  {
   "cell_type": "markdown",
   "id": "38345053",
   "metadata": {},
   "source": [
    "# Number of K-Dramas released in a year"
   ]
  },
  {
   "cell_type": "code",
   "execution_count": 27,
   "id": "9e1a3dfc",
   "metadata": {},
   "outputs": [
    {
     "data": {
      "image/png": "[encoded data removed]",
      "text/plain": [
       "<Figure size 504x504 with 1 Axes>"
      ]
     },
     "metadata": {
      "needs_background": "light"
     },
     "output_type": "display_data"
    },
    {
     "data": {
      "text/plain": [
       "2021    19\n",
       "2020    17\n",
       "2017    16\n",
       "2019    15\n",
       "2018    10\n",
       "2016     8\n",
       "2013     5\n",
       "2014     4\n",
       "2015     3\n",
       "2012     2\n",
       "2003     1\n",
       "Name: Year of release, dtype: int64"
      ]
     },
     "execution_count": 27,
     "metadata": {},
     "output_type": "execute_result"
    }
   ],
   "source": [
    "plt.figure(figsize=(7,7))\n",
    "\n",
    "kd['Year of release'].value_counts().plot(kind='barh')\n",
    "\n",
    "plt.gca().invert_yaxis()\n",
    "plt.title(\"Number of K-Dramas released per Year\")\n",
    "plt.xlabel('Frequency')\n",
    "plt.show()\n",
    "\n",
    "kd['Year of release'].value_counts()"
   ]
  },
  {
   "cell_type": "markdown",
   "id": "dff0ebaa",
   "metadata": {},
   "source": [
    "# Number of Episodes Distribution"
   ]
  },
  {
   "cell_type": "code",
   "execution_count": 30,
   "id": "10b9325a",
   "metadata": {},
   "outputs": [
    {
     "data": {
      "image/png": "[encoded data removed]",
      "text/plain": [
       "<Figure size 504x504 with 1 Axes>"
      ]
     },
     "metadata": {
      "needs_background": "light"
     },
     "output_type": "display_data"
    },
    {
     "data": {
      "text/plain": [
       "16     42\n",
       "20     13\n",
       "12     10\n",
       "6       6\n",
       "32      4\n",
       "18      3\n",
       "10      3\n",
       "24      2\n",
       "40      2\n",
       "21      2\n",
       "30      1\n",
       "54      1\n",
       "52      1\n",
       "51      1\n",
       "50      1\n",
       "11      1\n",
       "28      1\n",
       "8       1\n",
       "17      1\n",
       "9       1\n",
       "14      1\n",
       "13      1\n",
       "100     1\n",
       "Name: Number of Episode, dtype: int64"
      ]
     },
     "execution_count": 30,
     "metadata": {},
     "output_type": "execute_result"
    }
   ],
   "source": [
    "plt.figure(figsize=(7,7))\n",
    "\n",
    "kd['Number of Episode'].value_counts().plot(kind='barh')\n",
    "\n",
    "plt.gca().invert_yaxis()\n",
    "plt.title(\"Number of Episodes in K-Dramas\")\n",
    "plt.xlabel('Frequency')\n",
    "plt.show()\n",
    "\n",
    "kd['Number of Episode'].value_counts()"
   ]
  },
  {
   "cell_type": "markdown",
   "id": "bb1b7d2b",
   "metadata": {},
   "source": [
    "# One Hot Encoding"
   ]
  },
  {
   "cell_type": "code",
   "execution_count": 31,
   "id": "6d33ce86",
   "metadata": {},
   "outputs": [
    {
     "data": {
      "text/html": [
       "<div>\n",
       "<style scoped>\n",
       "    .dataframe tbody tr th:only-of-type {\n",
       "        vertical-align: middle;\n",
       "    }\n",
       "\n",
       "    .dataframe tbody tr th {\n",
       "        vertical-align: top;\n",
       "    }\n",
       "\n",
       "    .dataframe thead th {\n",
       "        text-align: right;\n",
       "    }\n",
       "</style>\n",
       "<table border=\"1\" class=\"dataframe\">\n",
       "  <thead>\n",
       "    <tr style=\"text-align: right;\">\n",
       "      <th></th>\n",
       "      <th>Year of release</th>\n",
       "      <th>Number of Episode</th>\n",
       "      <th>Network</th>\n",
       "      <th>Duration</th>\n",
       "      <th>Content Rating</th>\n",
       "      <th>Rating</th>\n",
       "    </tr>\n",
       "  </thead>\n",
       "  <tbody>\n",
       "    <tr>\n",
       "      <th>0</th>\n",
       "      <td>2021</td>\n",
       "      <td>10</td>\n",
       "      <td>Netflix</td>\n",
       "      <td>52</td>\n",
       "      <td>18+ Restricted (violence &amp; profanity)</td>\n",
       "      <td>9.2</td>\n",
       "    </tr>\n",
       "    <tr>\n",
       "      <th>1</th>\n",
       "      <td>2020</td>\n",
       "      <td>12</td>\n",
       "      <td>tvN</td>\n",
       "      <td>130</td>\n",
       "      <td>15+ - Teens 15 or older</td>\n",
       "      <td>9.1</td>\n",
       "    </tr>\n",
       "    <tr>\n",
       "      <th>2</th>\n",
       "      <td>2020</td>\n",
       "      <td>16</td>\n",
       "      <td>tvN</td>\n",
       "      <td>110</td>\n",
       "      <td>15+ - Teens 15 or older</td>\n",
       "      <td>9.1</td>\n",
       "    </tr>\n",
       "    <tr>\n",
       "      <th>3</th>\n",
       "      <td>2021</td>\n",
       "      <td>12</td>\n",
       "      <td>tvN</td>\n",
       "      <td>140</td>\n",
       "      <td>15+ - Teens 15 or older</td>\n",
       "      <td>9.1</td>\n",
       "    </tr>\n",
       "    <tr>\n",
       "      <th>4</th>\n",
       "      <td>2018</td>\n",
       "      <td>16</td>\n",
       "      <td>tvN</td>\n",
       "      <td>117</td>\n",
       "      <td>15+ - Teens 15 or older</td>\n",
       "      <td>9.1</td>\n",
       "    </tr>\n",
       "  </tbody>\n",
       "</table>\n",
       "</div>"
      ],
      "text/plain": [
       "   Year of release  Number of Episode  Network  Duration  \\\n",
       "0             2021                 10  Netflix        52   \n",
       "1             2020                 12      tvN       130   \n",
       "2             2020                 16      tvN       110   \n",
       "3             2021                 12      tvN       140   \n",
       "4             2018                 16      tvN       117   \n",
       "\n",
       "                           Content Rating  Rating  \n",
       "0  18+ Restricted (violence & profanity)      9.2  \n",
       "1                15+ - Teens 15 or older      9.1  \n",
       "2                15+ - Teens 15 or older      9.1  \n",
       "3                15+ - Teens 15 or older      9.1  \n",
       "4                15+ - Teens 15 or older      9.1  "
      ]
     },
     "execution_count": 31,
     "metadata": {},
     "output_type": "execute_result"
    }
   ],
   "source": [
    "kd.head()"
   ]
  },
  {
   "cell_type": "code",
   "execution_count": 32,
   "id": "b6dbd326",
   "metadata": {},
   "outputs": [
    {
     "data": {
      "text/html": [
       "<div>\n",
       "<style scoped>\n",
       "    .dataframe tbody tr th:only-of-type {\n",
       "        vertical-align: middle;\n",
       "    }\n",
       "\n",
       "    .dataframe tbody tr th {\n",
       "        vertical-align: top;\n",
       "    }\n",
       "\n",
       "    .dataframe thead th {\n",
       "        text-align: right;\n",
       "    }\n",
       "</style>\n",
       "<table border=\"1\" class=\"dataframe\">\n",
       "  <thead>\n",
       "    <tr style=\"text-align: right;\">\n",
       "      <th></th>\n",
       "      <th>Network_MBC</th>\n",
       "      <th>Network_Netflix</th>\n",
       "      <th>Network_OCN</th>\n",
       "      <th>Network_SBS</th>\n",
       "      <th>Network_Viki</th>\n",
       "      <th>Network_jTBC</th>\n",
       "      <th>Network_tvN</th>\n",
       "      <th>Content Rating_15+ - Teens 15 or older</th>\n",
       "      <th>Content Rating_18+ Restricted (violence &amp; profanity)</th>\n",
       "    </tr>\n",
       "  </thead>\n",
       "  <tbody>\n",
       "    <tr>\n",
       "      <th>0</th>\n",
       "      <td>0</td>\n",
       "      <td>1</td>\n",
       "      <td>0</td>\n",
       "      <td>0</td>\n",
       "      <td>0</td>\n",
       "      <td>0</td>\n",
       "      <td>0</td>\n",
       "      <td>0</td>\n",
       "      <td>1</td>\n",
       "    </tr>\n",
       "    <tr>\n",
       "      <th>1</th>\n",
       "      <td>0</td>\n",
       "      <td>0</td>\n",
       "      <td>0</td>\n",
       "      <td>0</td>\n",
       "      <td>0</td>\n",
       "      <td>0</td>\n",
       "      <td>1</td>\n",
       "      <td>1</td>\n",
       "      <td>0</td>\n",
       "    </tr>\n",
       "    <tr>\n",
       "      <th>2</th>\n",
       "      <td>0</td>\n",
       "      <td>0</td>\n",
       "      <td>0</td>\n",
       "      <td>0</td>\n",
       "      <td>0</td>\n",
       "      <td>0</td>\n",
       "      <td>1</td>\n",
       "      <td>1</td>\n",
       "      <td>0</td>\n",
       "    </tr>\n",
       "    <tr>\n",
       "      <th>3</th>\n",
       "      <td>0</td>\n",
       "      <td>0</td>\n",
       "      <td>0</td>\n",
       "      <td>0</td>\n",
       "      <td>0</td>\n",
       "      <td>0</td>\n",
       "      <td>1</td>\n",
       "      <td>1</td>\n",
       "      <td>0</td>\n",
       "    </tr>\n",
       "    <tr>\n",
       "      <th>4</th>\n",
       "      <td>0</td>\n",
       "      <td>0</td>\n",
       "      <td>0</td>\n",
       "      <td>0</td>\n",
       "      <td>0</td>\n",
       "      <td>0</td>\n",
       "      <td>1</td>\n",
       "      <td>1</td>\n",
       "      <td>0</td>\n",
       "    </tr>\n",
       "  </tbody>\n",
       "</table>\n",
       "</div>"
      ],
      "text/plain": [
       "   Network_MBC  Network_Netflix  Network_OCN  Network_SBS  Network_Viki  \\\n",
       "0            0                1            0            0             0   \n",
       "1            0                0            0            0             0   \n",
       "2            0                0            0            0             0   \n",
       "3            0                0            0            0             0   \n",
       "4            0                0            0            0             0   \n",
       "\n",
       "   Network_jTBC  Network_tvN  Content Rating_15+ - Teens 15 or older   \\\n",
       "0             0            0                                        0   \n",
       "1             0            1                                        1   \n",
       "2             0            1                                        1   \n",
       "3             0            1                                        1   \n",
       "4             0            1                                        1   \n",
       "\n",
       "   Content Rating_18+ Restricted (violence & profanity)   \n",
       "0                                                  1      \n",
       "1                                                  0      \n",
       "2                                                  0      \n",
       "3                                                  0      \n",
       "4                                                  0      "
      ]
     },
     "execution_count": 32,
     "metadata": {},
     "output_type": "execute_result"
    }
   ],
   "source": [
    "cols_to_encode = ['Network','Content Rating']\n",
    "dummies = pd.get_dummies(kd[cols_to_encode],drop_first=True)\n",
    "dummies.head()"
   ]
  },
  {
   "cell_type": "code",
   "execution_count": 33,
   "id": "9ec8f985",
   "metadata": {},
   "outputs": [
    {
     "data": {
      "text/html": [
       "<div>\n",
       "<style scoped>\n",
       "    .dataframe tbody tr th:only-of-type {\n",
       "        vertical-align: middle;\n",
       "    }\n",
       "\n",
       "    .dataframe tbody tr th {\n",
       "        vertical-align: top;\n",
       "    }\n",
       "\n",
       "    .dataframe thead th {\n",
       "        text-align: right;\n",
       "    }\n",
       "</style>\n",
       "<table border=\"1\" class=\"dataframe\">\n",
       "  <thead>\n",
       "    <tr style=\"text-align: right;\">\n",
       "      <th></th>\n",
       "      <th>Year of release</th>\n",
       "      <th>Number of Episode</th>\n",
       "      <th>Duration</th>\n",
       "      <th>Rating</th>\n",
       "    </tr>\n",
       "  </thead>\n",
       "  <tbody>\n",
       "    <tr>\n",
       "      <th>0</th>\n",
       "      <td>2021</td>\n",
       "      <td>10</td>\n",
       "      <td>52</td>\n",
       "      <td>9.2</td>\n",
       "    </tr>\n",
       "    <tr>\n",
       "      <th>1</th>\n",
       "      <td>2020</td>\n",
       "      <td>12</td>\n",
       "      <td>130</td>\n",
       "      <td>9.1</td>\n",
       "    </tr>\n",
       "    <tr>\n",
       "      <th>2</th>\n",
       "      <td>2020</td>\n",
       "      <td>16</td>\n",
       "      <td>110</td>\n",
       "      <td>9.1</td>\n",
       "    </tr>\n",
       "    <tr>\n",
       "      <th>3</th>\n",
       "      <td>2021</td>\n",
       "      <td>12</td>\n",
       "      <td>140</td>\n",
       "      <td>9.1</td>\n",
       "    </tr>\n",
       "    <tr>\n",
       "      <th>4</th>\n",
       "      <td>2018</td>\n",
       "      <td>16</td>\n",
       "      <td>117</td>\n",
       "      <td>9.1</td>\n",
       "    </tr>\n",
       "  </tbody>\n",
       "</table>\n",
       "</div>"
      ],
      "text/plain": [
       "   Year of release  Number of Episode  Duration  Rating\n",
       "0             2021                 10        52     9.2\n",
       "1             2020                 12       130     9.1\n",
       "2             2020                 16       110     9.1\n",
       "3             2021                 12       140     9.1\n",
       "4             2018                 16       117     9.1"
      ]
     },
     "execution_count": 33,
     "metadata": {},
     "output_type": "execute_result"
    }
   ],
   "source": [
    "kd.drop(cols_to_encode, axis=1,inplace=True)\n",
    "kd.head()"
   ]
  },
  {
   "cell_type": "markdown",
   "id": "c6516e6b",
   "metadata": {},
   "source": [
    "# Feature Scaling"
   ]
  },
  {
   "cell_type": "code",
   "execution_count": 34,
   "id": "57ffce4d",
   "metadata": {},
   "outputs": [],
   "source": [
    "scale = MinMaxScaler()\n",
    "scalled = scale.fit_transform(kd)"
   ]
  },
  {
   "cell_type": "code",
   "execution_count": 36,
   "id": "ab522816",
   "metadata": {},
   "outputs": [],
   "source": [
    "i=0\n",
    "for col in kd.columns:\n",
    "    kd[col] = scalled[:,i]\n",
    "    i += 1"
   ]
  },
  {
   "cell_type": "code",
   "execution_count": 37,
   "id": "c0d3a98c",
   "metadata": {},
   "outputs": [
    {
     "data": {
      "text/html": [
       "<div>\n",
       "<style scoped>\n",
       "    .dataframe tbody tr th:only-of-type {\n",
       "        vertical-align: middle;\n",
       "    }\n",
       "\n",
       "    .dataframe tbody tr th {\n",
       "        vertical-align: top;\n",
       "    }\n",
       "\n",
       "    .dataframe thead th {\n",
       "        text-align: right;\n",
       "    }\n",
       "</style>\n",
       "<table border=\"1\" class=\"dataframe\">\n",
       "  <thead>\n",
       "    <tr style=\"text-align: right;\">\n",
       "      <th></th>\n",
       "      <th>Year of release</th>\n",
       "      <th>Number of Episode</th>\n",
       "      <th>Duration</th>\n",
       "      <th>Rating</th>\n",
       "    </tr>\n",
       "  </thead>\n",
       "  <tbody>\n",
       "    <tr>\n",
       "      <th>0</th>\n",
       "      <td>1.000000</td>\n",
       "      <td>0.042553</td>\n",
       "      <td>0.312500</td>\n",
       "      <td>1.000000</td>\n",
       "    </tr>\n",
       "    <tr>\n",
       "      <th>1</th>\n",
       "      <td>0.944444</td>\n",
       "      <td>0.063830</td>\n",
       "      <td>0.921875</td>\n",
       "      <td>0.857143</td>\n",
       "    </tr>\n",
       "    <tr>\n",
       "      <th>2</th>\n",
       "      <td>0.944444</td>\n",
       "      <td>0.106383</td>\n",
       "      <td>0.765625</td>\n",
       "      <td>0.857143</td>\n",
       "    </tr>\n",
       "    <tr>\n",
       "      <th>3</th>\n",
       "      <td>1.000000</td>\n",
       "      <td>0.063830</td>\n",
       "      <td>1.000000</td>\n",
       "      <td>0.857143</td>\n",
       "    </tr>\n",
       "    <tr>\n",
       "      <th>4</th>\n",
       "      <td>0.833333</td>\n",
       "      <td>0.106383</td>\n",
       "      <td>0.820312</td>\n",
       "      <td>0.857143</td>\n",
       "    </tr>\n",
       "  </tbody>\n",
       "</table>\n",
       "</div>"
      ],
      "text/plain": [
       "   Year of release  Number of Episode  Duration    Rating\n",
       "0         1.000000           0.042553  0.312500  1.000000\n",
       "1         0.944444           0.063830  0.921875  0.857143\n",
       "2         0.944444           0.106383  0.765625  0.857143\n",
       "3         1.000000           0.063830  1.000000  0.857143\n",
       "4         0.833333           0.106383  0.820312  0.857143"
      ]
     },
     "execution_count": 37,
     "metadata": {},
     "output_type": "execute_result"
    }
   ],
   "source": [
    "kd.head()"
   ]
  },
  {
   "cell_type": "code",
   "execution_count": 38,
   "id": "9402b836",
   "metadata": {},
   "outputs": [
    {
     "data": {
      "text/html": [
       "<div>\n",
       "<style scoped>\n",
       "    .dataframe tbody tr th:only-of-type {\n",
       "        vertical-align: middle;\n",
       "    }\n",
       "\n",
       "    .dataframe tbody tr th {\n",
       "        vertical-align: top;\n",
       "    }\n",
       "\n",
       "    .dataframe thead th {\n",
       "        text-align: right;\n",
       "    }\n",
       "</style>\n",
       "<table border=\"1\" class=\"dataframe\">\n",
       "  <thead>\n",
       "    <tr style=\"text-align: right;\">\n",
       "      <th></th>\n",
       "      <th>Year of release</th>\n",
       "      <th>Number of Episode</th>\n",
       "      <th>Duration</th>\n",
       "      <th>Rating</th>\n",
       "      <th>Network_MBC</th>\n",
       "      <th>Network_Netflix</th>\n",
       "      <th>Network_OCN</th>\n",
       "      <th>Network_SBS</th>\n",
       "      <th>Network_Viki</th>\n",
       "      <th>Network_jTBC</th>\n",
       "      <th>Network_tvN</th>\n",
       "      <th>Content Rating_15+ - Teens 15 or older</th>\n",
       "      <th>Content Rating_18+ Restricted (violence &amp; profanity)</th>\n",
       "    </tr>\n",
       "  </thead>\n",
       "  <tbody>\n",
       "    <tr>\n",
       "      <th>0</th>\n",
       "      <td>1.000000</td>\n",
       "      <td>0.042553</td>\n",
       "      <td>0.312500</td>\n",
       "      <td>1.000000</td>\n",
       "      <td>0</td>\n",
       "      <td>1</td>\n",
       "      <td>0</td>\n",
       "      <td>0</td>\n",
       "      <td>0</td>\n",
       "      <td>0</td>\n",
       "      <td>0</td>\n",
       "      <td>0</td>\n",
       "      <td>1</td>\n",
       "    </tr>\n",
       "    <tr>\n",
       "      <th>1</th>\n",
       "      <td>0.944444</td>\n",
       "      <td>0.063830</td>\n",
       "      <td>0.921875</td>\n",
       "      <td>0.857143</td>\n",
       "      <td>0</td>\n",
       "      <td>0</td>\n",
       "      <td>0</td>\n",
       "      <td>0</td>\n",
       "      <td>0</td>\n",
       "      <td>0</td>\n",
       "      <td>1</td>\n",
       "      <td>1</td>\n",
       "      <td>0</td>\n",
       "    </tr>\n",
       "    <tr>\n",
       "      <th>2</th>\n",
       "      <td>0.944444</td>\n",
       "      <td>0.106383</td>\n",
       "      <td>0.765625</td>\n",
       "      <td>0.857143</td>\n",
       "      <td>0</td>\n",
       "      <td>0</td>\n",
       "      <td>0</td>\n",
       "      <td>0</td>\n",
       "      <td>0</td>\n",
       "      <td>0</td>\n",
       "      <td>1</td>\n",
       "      <td>1</td>\n",
       "      <td>0</td>\n",
       "    </tr>\n",
       "    <tr>\n",
       "      <th>3</th>\n",
       "      <td>1.000000</td>\n",
       "      <td>0.063830</td>\n",
       "      <td>1.000000</td>\n",
       "      <td>0.857143</td>\n",
       "      <td>0</td>\n",
       "      <td>0</td>\n",
       "      <td>0</td>\n",
       "      <td>0</td>\n",
       "      <td>0</td>\n",
       "      <td>0</td>\n",
       "      <td>1</td>\n",
       "      <td>1</td>\n",
       "      <td>0</td>\n",
       "    </tr>\n",
       "    <tr>\n",
       "      <th>4</th>\n",
       "      <td>0.833333</td>\n",
       "      <td>0.106383</td>\n",
       "      <td>0.820312</td>\n",
       "      <td>0.857143</td>\n",
       "      <td>0</td>\n",
       "      <td>0</td>\n",
       "      <td>0</td>\n",
       "      <td>0</td>\n",
       "      <td>0</td>\n",
       "      <td>0</td>\n",
       "      <td>1</td>\n",
       "      <td>1</td>\n",
       "      <td>0</td>\n",
       "    </tr>\n",
       "  </tbody>\n",
       "</table>\n",
       "</div>"
      ],
      "text/plain": [
       "   Year of release  Number of Episode  Duration    Rating  Network_MBC  \\\n",
       "0         1.000000           0.042553  0.312500  1.000000            0   \n",
       "1         0.944444           0.063830  0.921875  0.857143            0   \n",
       "2         0.944444           0.106383  0.765625  0.857143            0   \n",
       "3         1.000000           0.063830  1.000000  0.857143            0   \n",
       "4         0.833333           0.106383  0.820312  0.857143            0   \n",
       "\n",
       "   Network_Netflix  Network_OCN  Network_SBS  Network_Viki  Network_jTBC  \\\n",
       "0                1            0            0             0             0   \n",
       "1                0            0            0             0             0   \n",
       "2                0            0            0             0             0   \n",
       "3                0            0            0             0             0   \n",
       "4                0            0            0             0             0   \n",
       "\n",
       "   Network_tvN  Content Rating_15+ - Teens 15 or older   \\\n",
       "0            0                                        0   \n",
       "1            1                                        1   \n",
       "2            1                                        1   \n",
       "3            1                                        1   \n",
       "4            1                                        1   \n",
       "\n",
       "   Content Rating_18+ Restricted (violence & profanity)   \n",
       "0                                                  1      \n",
       "1                                                  0      \n",
       "2                                                  0      \n",
       "3                                                  0      \n",
       "4                                                  0      "
      ]
     },
     "execution_count": 38,
     "metadata": {},
     "output_type": "execute_result"
    }
   ],
   "source": [
    "new_kd = pd.concat([kd, dummies],axis=1)\n",
    "new_kd.head()"
   ]
  },
  {
   "cell_type": "code",
   "execution_count": 41,
   "id": "86f72327",
   "metadata": {},
   "outputs": [
    {
     "data": {
      "text/html": [
       "<div>\n",
       "<style scoped>\n",
       "    .dataframe tbody tr th:only-of-type {\n",
       "        vertical-align: middle;\n",
       "    }\n",
       "\n",
       "    .dataframe tbody tr th {\n",
       "        vertical-align: top;\n",
       "    }\n",
       "\n",
       "    .dataframe thead th {\n",
       "        text-align: right;\n",
       "    }\n",
       "</style>\n",
       "<table border=\"1\" class=\"dataframe\">\n",
       "  <thead>\n",
       "    <tr style=\"text-align: right;\">\n",
       "      <th></th>\n",
       "      <th>Synopsis</th>\n",
       "    </tr>\n",
       "  </thead>\n",
       "  <tbody>\n",
       "    <tr>\n",
       "      <th>0</th>\n",
       "      <td>Geu Roo is a young autistic man. He works for ...</td>\n",
       "    </tr>\n",
       "    <tr>\n",
       "      <th>1</th>\n",
       "      <td>The stories of people going through their days...</td>\n",
       "    </tr>\n",
       "    <tr>\n",
       "      <th>2</th>\n",
       "      <td>Although Baek Hee Sung is hiding a dark secret...</td>\n",
       "    </tr>\n",
       "    <tr>\n",
       "      <th>3</th>\n",
       "      <td>Everyday is extraordinary for five doctors and...</td>\n",
       "    </tr>\n",
       "    <tr>\n",
       "      <th>4</th>\n",
       "      <td>Park Dong Hoon is a middle-aged engineer who i...</td>\n",
       "    </tr>\n",
       "  </tbody>\n",
       "</table>\n",
       "</div>"
      ],
      "text/plain": [
       "                                            Synopsis\n",
       "0  Geu Roo is a young autistic man. He works for ...\n",
       "1  The stories of people going through their days...\n",
       "2  Although Baek Hee Sung is hiding a dark secret...\n",
       "3  Everyday is extraordinary for five doctors and...\n",
       "4  Park Dong Hoon is a middle-aged engineer who i..."
      ]
     },
     "execution_count": 41,
     "metadata": {},
     "output_type": "execute_result"
    }
   ],
   "source": [
    "synopsis = pd.read_csv('top100_kdrama.csv',usecols=['Synopsis'])\n",
    "synopsis.head()"
   ]
  },
  {
   "cell_type": "code",
   "execution_count": 42,
   "id": "bac184d8",
   "metadata": {},
   "outputs": [
    {
     "data": {
      "text/html": [
       "<div>\n",
       "<style scoped>\n",
       "    .dataframe tbody tr th:only-of-type {\n",
       "        vertical-align: middle;\n",
       "    }\n",
       "\n",
       "    .dataframe tbody tr th {\n",
       "        vertical-align: top;\n",
       "    }\n",
       "\n",
       "    .dataframe thead th {\n",
       "        text-align: right;\n",
       "    }\n",
       "</style>\n",
       "<table border=\"1\" class=\"dataframe\">\n",
       "  <thead>\n",
       "    <tr style=\"text-align: right;\">\n",
       "      <th></th>\n",
       "      <th>Year of release</th>\n",
       "      <th>Number of Episode</th>\n",
       "      <th>Duration</th>\n",
       "      <th>Rating</th>\n",
       "      <th>Network_MBC</th>\n",
       "      <th>Network_Netflix</th>\n",
       "      <th>Network_OCN</th>\n",
       "      <th>Network_SBS</th>\n",
       "      <th>Network_Viki</th>\n",
       "      <th>Network_jTBC</th>\n",
       "      <th>Network_tvN</th>\n",
       "      <th>Content Rating_15+ - Teens 15 or older</th>\n",
       "      <th>Content Rating_18+ Restricted (violence &amp; profanity)</th>\n",
       "    </tr>\n",
       "  </thead>\n",
       "  <tbody>\n",
       "    <tr>\n",
       "      <th>Move to Heaven</th>\n",
       "      <td>1.000000</td>\n",
       "      <td>0.042553</td>\n",
       "      <td>0.312500</td>\n",
       "      <td>1.000000</td>\n",
       "      <td>0</td>\n",
       "      <td>1</td>\n",
       "      <td>0</td>\n",
       "      <td>0</td>\n",
       "      <td>0</td>\n",
       "      <td>0</td>\n",
       "      <td>0</td>\n",
       "      <td>0</td>\n",
       "      <td>1</td>\n",
       "    </tr>\n",
       "    <tr>\n",
       "      <th>Hospital Playlist</th>\n",
       "      <td>0.944444</td>\n",
       "      <td>0.063830</td>\n",
       "      <td>0.921875</td>\n",
       "      <td>0.857143</td>\n",
       "      <td>0</td>\n",
       "      <td>0</td>\n",
       "      <td>0</td>\n",
       "      <td>0</td>\n",
       "      <td>0</td>\n",
       "      <td>0</td>\n",
       "      <td>1</td>\n",
       "      <td>1</td>\n",
       "      <td>0</td>\n",
       "    </tr>\n",
       "    <tr>\n",
       "      <th>Flower of Evil</th>\n",
       "      <td>0.944444</td>\n",
       "      <td>0.106383</td>\n",
       "      <td>0.765625</td>\n",
       "      <td>0.857143</td>\n",
       "      <td>0</td>\n",
       "      <td>0</td>\n",
       "      <td>0</td>\n",
       "      <td>0</td>\n",
       "      <td>0</td>\n",
       "      <td>0</td>\n",
       "      <td>1</td>\n",
       "      <td>1</td>\n",
       "      <td>0</td>\n",
       "    </tr>\n",
       "    <tr>\n",
       "      <th>Hospital Playlist 2</th>\n",
       "      <td>1.000000</td>\n",
       "      <td>0.063830</td>\n",
       "      <td>1.000000</td>\n",
       "      <td>0.857143</td>\n",
       "      <td>0</td>\n",
       "      <td>0</td>\n",
       "      <td>0</td>\n",
       "      <td>0</td>\n",
       "      <td>0</td>\n",
       "      <td>0</td>\n",
       "      <td>1</td>\n",
       "      <td>1</td>\n",
       "      <td>0</td>\n",
       "    </tr>\n",
       "    <tr>\n",
       "      <th>My Mister</th>\n",
       "      <td>0.833333</td>\n",
       "      <td>0.106383</td>\n",
       "      <td>0.820312</td>\n",
       "      <td>0.857143</td>\n",
       "      <td>0</td>\n",
       "      <td>0</td>\n",
       "      <td>0</td>\n",
       "      <td>0</td>\n",
       "      <td>0</td>\n",
       "      <td>0</td>\n",
       "      <td>1</td>\n",
       "      <td>1</td>\n",
       "      <td>0</td>\n",
       "    </tr>\n",
       "  </tbody>\n",
       "</table>\n",
       "</div>"
      ],
      "text/plain": [
       "                     Year of release  Number of Episode  Duration    Rating  \\\n",
       "Move to Heaven              1.000000           0.042553  0.312500  1.000000   \n",
       "Hospital Playlist           0.944444           0.063830  0.921875  0.857143   \n",
       "Flower of Evil              0.944444           0.106383  0.765625  0.857143   \n",
       "Hospital Playlist 2         1.000000           0.063830  1.000000  0.857143   \n",
       "My Mister                   0.833333           0.106383  0.820312  0.857143   \n",
       "\n",
       "                     Network_MBC  Network_Netflix  Network_OCN  Network_SBS  \\\n",
       "Move to Heaven                 0                1            0            0   \n",
       "Hospital Playlist              0                0            0            0   \n",
       "Flower of Evil                 0                0            0            0   \n",
       "Hospital Playlist 2            0                0            0            0   \n",
       "My Mister                      0                0            0            0   \n",
       "\n",
       "                     Network_Viki  Network_jTBC  Network_tvN  \\\n",
       "Move to Heaven                  0             0            0   \n",
       "Hospital Playlist               0             0            1   \n",
       "Flower of Evil                  0             0            1   \n",
       "Hospital Playlist 2             0             0            1   \n",
       "My Mister                       0             0            1   \n",
       "\n",
       "                     Content Rating_15+ - Teens 15 or older   \\\n",
       "Move to Heaven                                             0   \n",
       "Hospital Playlist                                          1   \n",
       "Flower of Evil                                             1   \n",
       "Hospital Playlist 2                                        1   \n",
       "My Mister                                                  1   \n",
       "\n",
       "                     Content Rating_18+ Restricted (violence & profanity)   \n",
       "Move to Heaven                                                       1      \n",
       "Hospital Playlist                                                    0      \n",
       "Flower of Evil                                                       0      \n",
       "Hospital Playlist 2                                                  0      \n",
       "My Mister                                                            0      "
      ]
     },
     "execution_count": 42,
     "metadata": {},
     "output_type": "execute_result"
    }
   ],
   "source": [
    "kdrama_names['Name'].loc[23]='kingdom'\n",
    "new_kd.index = [drama for drama in kdrama_names['Name']]\n",
    "synopsis.index = [drama for drama in kdrama_names['Name']]\n",
    "new_kd.head()"
   ]
  },
  {
   "cell_type": "markdown",
   "id": "e4c1b980",
   "metadata": {},
   "source": [
    "# Recommendation System"
   ]
  },
  {
   "cell_type": "code",
   "execution_count": 43,
   "id": "0dd8e22d",
   "metadata": {},
   "outputs": [],
   "source": [
    "def getRecommendation_dramas_for(drama_name,no_of_recommend=5,get_similarity_rate=False):\n",
    "    \n",
    "    kn = NearestNeighbors(n_neighbors=no_of_recommend+1,metric='manhattan')\n",
    "    kn.fit(new_kd)\n",
    "    \n",
    "    distances, indices = kn.kneighbors(new_kd.loc[drama_name])\n",
    "    \n",
    "    print(f'Similar K-Dramas for \"{drama_name[0]}\":')\n",
    "    nearest_dramas = [kdrama_names.loc[i][0] for i in indices.flatten()][1:]\n",
    "    if not get_similarity_rate:\n",
    "        return nearest_dramas\n",
    "    sim_rates = []\n",
    "    synopsis_ = []\n",
    "    for drama in nearest_dramas:\n",
    "        synopsis_.append(synopsis.loc[drama][0])\n",
    "        sim = cosine_similarity(new_kd.loc[drama_name],[new_kd.loc[drama]]).flatten()\n",
    "        sim_rates.append(sim[0])\n",
    "    recommended_dramas = pd.DataFrame({'Recommended Drama':nearest_dramas,'Similarity':sim_rates,'Synopsis':synopsis_})\n",
    "    recommended_dramas.sort_values(by='Similarity',ascending=True)\n",
    "    return recommended_dramas"
   ]
  },
  {
   "cell_type": "code",
   "execution_count": 44,
   "id": "65ce0a36",
   "metadata": {},
   "outputs": [],
   "source": [
    "def print_similiar_drama_Synopsis(recommended_kd):\n",
    "    rkd = recommended_kd\n",
    "    rkd_cols = rkd['Synopsis']\n",
    "    dramas = rkd['Recommended Drama']\n",
    "    for i in range(5):\n",
    "        print(dramas[i])\n",
    "        print(rkd_cols[i])\n",
    "        print('\\n')"
   ]
  },
  {
   "cell_type": "markdown",
   "id": "6927aa5a",
   "metadata": {},
   "source": [
    "# Predicting Drama Recommendation"
   ]
  },
  {
   "cell_type": "code",
   "execution_count": 45,
   "id": "8ec5d63f",
   "metadata": {},
   "outputs": [
    {
     "data": {
      "text/plain": [
       "Name    Move to Heaven\n",
       "Name: 0, dtype: object"
      ]
     },
     "execution_count": 45,
     "metadata": {},
     "output_type": "execute_result"
    }
   ],
   "source": [
    "rd1 = kdrama_names.loc[0]\n",
    "rd1"
   ]
  },
  {
   "cell_type": "code",
   "execution_count": 46,
   "id": "5bea036f",
   "metadata": {},
   "outputs": [
    {
     "name": "stdout",
     "output_type": "stream",
     "text": [
      "Similar K-Dramas for \"Move to Heaven\":\n"
     ]
    },
    {
     "data": {
      "text/plain": [
       "['Kingdom', 'Kingdom', 'My Name', 'Sweet Home', 'Squid Game']"
      ]
     },
     "execution_count": 46,
     "metadata": {},
     "output_type": "execute_result"
    }
   ],
   "source": [
    "getRecommendation_dramas_for(rd1,no_of_recommend=5)"
   ]
  },
  {
   "cell_type": "code",
   "execution_count": 47,
   "id": "e8a4dc7c",
   "metadata": {},
   "outputs": [
    {
     "data": {
      "text/plain": [
       "Name    Signal\n",
       "Name: 10, dtype: object"
      ]
     },
     "execution_count": 47,
     "metadata": {},
     "output_type": "execute_result"
    }
   ],
   "source": [
    "rd2 = kdrama_names.loc[10]\n",
    "rd2"
   ]
  },
  {
   "cell_type": "code",
   "execution_count": 48,
   "id": "35f8c9de",
   "metadata": {},
   "outputs": [
    {
     "name": "stdout",
     "output_type": "stream",
     "text": [
      "Similar K-Dramas for \"Signal\":\n"
     ]
    },
    {
     "data": {
      "text/html": [
       "<div>\n",
       "<style scoped>\n",
       "    .dataframe tbody tr th:only-of-type {\n",
       "        vertical-align: middle;\n",
       "    }\n",
       "\n",
       "    .dataframe tbody tr th {\n",
       "        vertical-align: top;\n",
       "    }\n",
       "\n",
       "    .dataframe thead th {\n",
       "        text-align: right;\n",
       "    }\n",
       "</style>\n",
       "<table border=\"1\" class=\"dataframe\">\n",
       "  <thead>\n",
       "    <tr style=\"text-align: right;\">\n",
       "      <th></th>\n",
       "      <th>Recommended Drama</th>\n",
       "      <th>Similarity</th>\n",
       "      <th>Synopsis</th>\n",
       "    </tr>\n",
       "  </thead>\n",
       "  <tbody>\n",
       "    <tr>\n",
       "      <th>0</th>\n",
       "      <td>It's Okay to Not Be Okay</td>\n",
       "      <td>0.994766</td>\n",
       "      <td>Moon Gang Tae is a community health worker at ...</td>\n",
       "    </tr>\n",
       "    <tr>\n",
       "      <th>1</th>\n",
       "      <td>Stranger</td>\n",
       "      <td>0.996784</td>\n",
       "      <td>Hwang Shi Mok underwent brain surgery as a chi...</td>\n",
       "    </tr>\n",
       "    <tr>\n",
       "      <th>2</th>\n",
       "      <td>Crash Landing on You</td>\n",
       "      <td>0.996966</td>\n",
       "      <td>After getting into a paragliding accident, Sou...</td>\n",
       "    </tr>\n",
       "    <tr>\n",
       "      <th>3</th>\n",
       "      <td>My Mister</td>\n",
       "      <td>0.997236</td>\n",
       "      <td>Park Dong Hoon is a middle-aged engineer who i...</td>\n",
       "    </tr>\n",
       "    <tr>\n",
       "      <th>4</th>\n",
       "      <td>Reply 1988</td>\n",
       "      <td>0.995079</td>\n",
       "      <td>Five childhood friends, who all live in the sa...</td>\n",
       "    </tr>\n",
       "  </tbody>\n",
       "</table>\n",
       "</div>"
      ],
      "text/plain": [
       "          Recommended Drama  Similarity  \\\n",
       "0  It's Okay to Not Be Okay    0.994766   \n",
       "1                  Stranger    0.996784   \n",
       "2      Crash Landing on You    0.996966   \n",
       "3                 My Mister    0.997236   \n",
       "4                Reply 1988    0.995079   \n",
       "\n",
       "                                            Synopsis  \n",
       "0  Moon Gang Tae is a community health worker at ...  \n",
       "1  Hwang Shi Mok underwent brain surgery as a chi...  \n",
       "2  After getting into a paragliding accident, Sou...  \n",
       "3  Park Dong Hoon is a middle-aged engineer who i...  \n",
       "4  Five childhood friends, who all live in the sa...  "
      ]
     },
     "execution_count": 48,
     "metadata": {},
     "output_type": "execute_result"
    }
   ],
   "source": [
    "getRecommendation_dramas_for(rd2,get_similarity_rate=True)"
   ]
  },
  {
   "cell_type": "code",
   "execution_count": 49,
   "id": "19d9618f",
   "metadata": {},
   "outputs": [
    {
     "data": {
      "text/plain": [
       "Name    Hospital Playlist\n",
       "Name: 1, dtype: object"
      ]
     },
     "execution_count": 49,
     "metadata": {},
     "output_type": "execute_result"
    }
   ],
   "source": [
    "rd3 = kdrama_names.loc[1]\n",
    "rd3"
   ]
  },
  {
   "cell_type": "code",
   "execution_count": 54,
   "id": "5e37a36a",
   "metadata": {},
   "outputs": [
    {
     "name": "stdout",
     "output_type": "stream",
     "text": [
      "Similar K-Dramas for \"Hospital Playlist\":\n"
     ]
    },
    {
     "data": {
      "text/html": [
       "<div>\n",
       "<style scoped>\n",
       "    .dataframe tbody tr th:only-of-type {\n",
       "        vertical-align: middle;\n",
       "    }\n",
       "\n",
       "    .dataframe tbody tr th {\n",
       "        vertical-align: top;\n",
       "    }\n",
       "\n",
       "    .dataframe thead th {\n",
       "        text-align: right;\n",
       "    }\n",
       "</style>\n",
       "<table border=\"1\" class=\"dataframe\">\n",
       "  <thead>\n",
       "    <tr style=\"text-align: right;\">\n",
       "      <th></th>\n",
       "      <th>Recommended Drama</th>\n",
       "      <th>Similarity</th>\n",
       "      <th>Synopsis</th>\n",
       "    </tr>\n",
       "  </thead>\n",
       "  <tbody>\n",
       "    <tr>\n",
       "      <th>0</th>\n",
       "      <td>Hospital Playlist 2</td>\n",
       "      <td>0.999395</td>\n",
       "      <td>Everyday is extraordinary for five doctors and...</td>\n",
       "    </tr>\n",
       "    <tr>\n",
       "      <th>1</th>\n",
       "      <td>Flower of Evil</td>\n",
       "      <td>0.997420</td>\n",
       "      <td>Although Baek Hee Sung is hiding a dark secret...</td>\n",
       "    </tr>\n",
       "    <tr>\n",
       "      <th>2</th>\n",
       "      <td>Prison Playbook</td>\n",
       "      <td>0.996988</td>\n",
       "      <td>Kim Je Hyuk, a famous baseball player, is arre...</td>\n",
       "    </tr>\n",
       "    <tr>\n",
       "      <th>3</th>\n",
       "      <td>My Mister</td>\n",
       "      <td>0.998064</td>\n",
       "      <td>Park Dong Hoon is a middle-aged engineer who i...</td>\n",
       "    </tr>\n",
       "    <tr>\n",
       "      <th>4</th>\n",
       "      <td>Crash Landing on You</td>\n",
       "      <td>0.997901</td>\n",
       "      <td>After getting into a paragliding accident, Sou...</td>\n",
       "    </tr>\n",
       "    <tr>\n",
       "      <th>5</th>\n",
       "      <td>It's Okay to Not Be Okay</td>\n",
       "      <td>0.996995</td>\n",
       "      <td>Moon Gang Tae is a community health worker at ...</td>\n",
       "    </tr>\n",
       "    <tr>\n",
       "      <th>6</th>\n",
       "      <td>Mr. Queen</td>\n",
       "      <td>0.996879</td>\n",
       "      <td>Jang Bong Hwan is a South Korean chef who has ...</td>\n",
       "    </tr>\n",
       "    <tr>\n",
       "      <th>7</th>\n",
       "      <td>Vincenzo</td>\n",
       "      <td>0.996514</td>\n",
       "      <td>At the age of eight, Park Joo Hyeong went to I...</td>\n",
       "    </tr>\n",
       "    <tr>\n",
       "      <th>8</th>\n",
       "      <td>Signal</td>\n",
       "      <td>0.994214</td>\n",
       "      <td>Fifteen years ago, a young girl was kidnapped ...</td>\n",
       "    </tr>\n",
       "    <tr>\n",
       "      <th>9</th>\n",
       "      <td>Reply 1988</td>\n",
       "      <td>0.988641</td>\n",
       "      <td>Five childhood friends, who all live in the sa...</td>\n",
       "    </tr>\n",
       "  </tbody>\n",
       "</table>\n",
       "</div>"
      ],
      "text/plain": [
       "          Recommended Drama  Similarity  \\\n",
       "0       Hospital Playlist 2    0.999395   \n",
       "1            Flower of Evil    0.997420   \n",
       "2           Prison Playbook    0.996988   \n",
       "3                 My Mister    0.998064   \n",
       "4      Crash Landing on You    0.997901   \n",
       "5  It's Okay to Not Be Okay    0.996995   \n",
       "6                 Mr. Queen    0.996879   \n",
       "7                  Vincenzo    0.996514   \n",
       "8                    Signal    0.994214   \n",
       "9                Reply 1988    0.988641   \n",
       "\n",
       "                                            Synopsis  \n",
       "0  Everyday is extraordinary for five doctors and...  \n",
       "1  Although Baek Hee Sung is hiding a dark secret...  \n",
       "2  Kim Je Hyuk, a famous baseball player, is arre...  \n",
       "3  Park Dong Hoon is a middle-aged engineer who i...  \n",
       "4  After getting into a paragliding accident, Sou...  \n",
       "5  Moon Gang Tae is a community health worker at ...  \n",
       "6  Jang Bong Hwan is a South Korean chef who has ...  \n",
       "7  At the age of eight, Park Joo Hyeong went to I...  \n",
       "8  Fifteen years ago, a young girl was kidnapped ...  \n",
       "9  Five childhood friends, who all live in the sa...  "
      ]
     },
     "execution_count": 54,
     "metadata": {},
     "output_type": "execute_result"
    }
   ],
   "source": [
    "getRecommendation_dramas_for(rd3,no_of_recommend=10,get_similarity_rate=True)"
   ]
  },
  {
   "cell_type": "code",
   "execution_count": 51,
   "id": "07ca38bb",
   "metadata": {},
   "outputs": [
    {
     "data": {
      "text/plain": [
       "Name    Mr. Queen\n",
       "Name: 8, dtype: object"
      ]
     },
     "execution_count": 51,
     "metadata": {},
     "output_type": "execute_result"
    }
   ],
   "source": [
    "rd4 = kdrama_names.loc[8]\n",
    "rd4"
   ]
  },
  {
   "cell_type": "code",
   "execution_count": 52,
   "id": "d74bac3e",
   "metadata": {},
   "outputs": [
    {
     "name": "stdout",
     "output_type": "stream",
     "text": [
      "Similar K-Dramas for \"Mr. Queen\":\n",
      "It's Okay to Not Be Okay\n",
      "Moon Gang Tae is a community health worker at a psychiatric ward who was blessed with everything including a great body, smarts, ability to sympathize with others, patience, ability to react quickly, stamina, and more. Meanwhile, Ko Moon Young is a popular writer of children’s literature who, due to suffering from an antisocial personality disorder, seems extremely selfish, arrogant, and rude.\n",
      "\n",
      "\n",
      "Vincenzo\n",
      "At the age of eight, Park Joo Hyeong went to Italy after being adopted. Now an adult, he is known as Vincenzo Cassano to the Mafia, who employ him as a consigliere. Because mafia factions are at war with each other, he flees to South Korea, where he gets involved with Lawyer Hong Cha Young. She is the type of attorney who will do anything to win a case. Now back at his motherland, he gives an unrivaled conglomerate a taste of its own medicine with a side of justice.\n",
      "\n",
      "\n",
      "Crash Landing on You\n",
      "After getting into a paragliding accident, South Korean heiress Yoon Se Ri crash lands in North Korea. There, she meets North Korean army officer Ri Jung Hyuk, who agrees to help her return to South Korea. Despite the tension between their countries, the two of them start falling for one another.\n",
      "\n",
      "\n",
      "Flower of Evil\n",
      "Although Baek Hee Sung is hiding a dark secret surrounding his true identity, he has established a happy family life and a successful career. He is a loving husband and doting father to his young daughter. But his perfect façade begins to crumble when his wife, Cha Ji Won, a homicide detective, begins investigating a string of serial murders from 15 years ago. Ji Won notices changes in Hee Sung’s behavior and begins to wonder if he could possibly be hiding something from her. \n",
      "\n",
      "\n",
      "Mr. Sunshine\n",
      "Mr. Sunshine centers on a young boy born into a house servant's family and travels to the United States during the 1871 Shinmiyangyo (U.S. expedition to Korea). He returns to his homeland later as a U.S. marine officer. He meets and falls in love with an aristocrat’s daughter. At the same time, he discovers a plot by foreign forces to colonize Korea.  Edit Translation  English 한국어 中文(简体) Русский\n",
      "\n",
      "\n"
     ]
    }
   ],
   "source": [
    "rdf4 = getRecommendation_dramas_for(rd4,no_of_recommend=10,get_similarity_rate=True)\n",
    "print_similiar_drama_Synopsis(rdf4)"
   ]
  },
  {
   "cell_type": "code",
   "execution_count": 61,
   "id": "44aa3af4",
   "metadata": {},
   "outputs": [
    {
     "data": {
      "text/plain": [
       "Name    Fight For My Way\n",
       "Name: 99, dtype: object"
      ]
     },
     "execution_count": 61,
     "metadata": {},
     "output_type": "execute_result"
    }
   ],
   "source": [
    "rd5 = kdrama_names.loc[99]\n",
    "rd5"
   ]
  },
  {
   "cell_type": "code",
   "execution_count": 62,
   "id": "2acbe920",
   "metadata": {},
   "outputs": [
    {
     "name": "stdout",
     "output_type": "stream",
     "text": [
      "Similar K-Dramas for \"Fight For My Way\":\n",
      "Good Manager\n",
      "Can corporate politics turn a bad person into a good person? Kim Sung Ryong is a skilled accountant who works for gangsters. He makes his way into a company called TQ Group as a middle manager in the accounting department with the intention of embezzling money from the company. As he contends with hot-shot accountant Yoon Ha Kyung, financial prodigy Seo Yul and peppy intern Hong Ga Eun, Sung Ryong finds himself embroiled in office politics and notices other shenanigans by those in power that threaten to bring down the company. Sung Ryong slowly comes to realize that he’d rather fight against corporate corruption and fight for employees’ rights than complete the mission he originally came to do. Can he succeed at his new objective against all odds?\n",
      "\n",
      "\n",
      "Descendants of the Sun\n",
      "A love story that develops between a surgeon and a special forces officer.\n",
      "\n",
      "\n",
      "Dali and the Cocky Prince\n",
      "As a young boy, Moo Hak grew up in the market as a peddler. Although he is ignorant, he is strong-willed and knows how to make money. He is now the managing director of Dondon F and B, a global restaurant chain that his family started as a small gamjatang diner. However, he isn't dignified and only cares about money. He meets Da Li, the only daughter and child of an upper-class family who runs an art gallery. She has a profound deep knowledge of things. She gets faced with bankruptcy due to her father's sudden death and begins a hard life. Moo Hak and Da Li start a relationship as a creditor and debtor over the art gallery. Will these two polar opposites understand each other and fall in love?\n",
      "\n",
      "\n",
      "Go Back Couple\n",
      "38-years-old married couple, Choi Ban Do and Ma Jin Joo, were in love when they got married but now, hate each other and regret marrying at such a young age. Choi Ban Do has been burdened with being the breadwinner, and Ma Jin Joo is a housewife with low self-esteem. The couple travels through time and finds themselves as 20-year-old university students when they met for the first time.\n",
      "\n",
      "\n",
      "Healer\n",
      "Seo Jung Hoo is a special kind of night courier, known only as \"Healer\" by his clients. For the right price and with the help of a genius hacker, he gets his clients whatever they want, as long as it doesn't involve murder. His latest job leads him to a second-rate tabloid writer, Chae Young Shin, and the successful reporter, Kim Moon Ho. He begins to uncover the mystery of his own shared past with the two reporters, thus putting them all in danger. Edit Translation  English Русский Ελληνικά Italiano\n",
      "\n",
      "\n"
     ]
    }
   ],
   "source": [
    "rdf5=getRecommendation_dramas_for(rd5,no_of_recommend=5,get_similarity_rate=True)\n",
    "print_similiar_drama_Synopsis(rdf5)"
   ]
  },
  {
   "cell_type": "code",
   "execution_count": null,
   "id": "d57a9512",
   "metadata": {},
   "outputs": [],
   "source": []
  }
 ],
 "metadata": {
  "kernelspec": {
   "display_name": "Python 3",
   "language": "python",
   "name": "python3"
  },
  "language_info": {
   "codemirror_mode": {
    "name": "ipython",
    "version": 3
   },
   "file_extension": ".py",
   "mimetype": "text/x-python",
   "name": "python",
   "nbconvert_exporter": "python",
   "pygments_lexer": "ipython3",
   "version": "3.8.5"
  }
 },
 "nbformat": 4,
 "nbformat_minor": 5
}
